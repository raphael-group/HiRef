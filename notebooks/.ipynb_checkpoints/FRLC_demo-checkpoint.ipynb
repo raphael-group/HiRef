{
 "cells": [
  {
   "cell_type": "markdown",
   "id": "7eff5b59",
   "metadata": {},
   "source": [
    "# FRLC Demo notebook\n",
    "\n",
    "_Factor relaxation with latent coupling_ (abbreviated FRLC with the mnemonic \"frolic\") solves for a rank $r$ optimal transport coupling $\\mathbf{P} \\in \\Pi_{r}(\\mathbf{a}, \\mathbf{b})$ which aligns a distribution $\\mathbf{a}$ to a distribution $\\mathbf{b}$ with least Wasserstein cost\n",
    "\n",
    "$$\\mathbf{P}^{*} = \\arg\\min_{\\mathbf{P} \\in \\Pi_{r}(\\mathbf{a}, \\mathbf{b})} \\langle \\mathbf{C}, \\mathbf{P} \\rangle_{F} $$\n",
    "\n",
    "by returning a factorization of $\\mathbf{P}$ in terms of two sub-couplings $\\mathbf{Q}, \\mathbf{R}$ and a latent coupling $\\mathbf{T}$ $$\\mathbf{P} = \\mathbf{Q} \\mathrm{diag}(1 / \\mathbf{g}_{Q}) \\mathbf{T} \\mathrm{diag}(1 / \\mathbf{g}_{R}) \\mathbf{R}^{T} $$\n",
    "where one can imagine this coarsening the full transport $(\\mathbf{P}, \\mathbf{a}, \\mathbf{b}) \\mapsto (\\mathbf{T}, \\mathbf{g}_{Q}, \\mathbf{g}_{R})$ from being over the observed datapoints to $r$ latent clusters. The latent coupling, importantly, can be non-diagonal and represent hidden non-square transitions in the transport. In this simple demo notebook, we demonstrate how to use FRLC and visualize interpretable outputs from it."
   ]
  },
  {
   "cell_type": "code",
   "execution_count": null,
   "id": "897a8e1d",
   "metadata": {},
   "outputs": [],
   "source": [
    "# Packages for generating example datasets\n",
    "import numpy as np\n",
    "import torch\n",
    "import torchdyn\n",
    "from torchdyn.datasets import generate_moons\n",
    "from scipy.spatial import distance\n",
    "import matplotlib.pyplot as plt\n",
    "# Import FRLC packages\n",
    "import sys\n",
    "sys.path.insert(0, '../src/')\n",
    "import FRLC\n",
    "import util\n",
    "import plotting"
   ]
  },
  {
   "cell_type": "code",
   "execution_count": null,
   "id": "729d0946",
   "metadata": {},
   "outputs": [],
   "source": [
    "device = torch.device(\"cuda\" if torch.cuda.is_available() else \"cpu\")\n",
    "dtype = torch.float64"
   ]
  },
  {
   "cell_type": "markdown",
   "id": "c91a0d2a",
   "metadata": {},
   "source": [
    "# 2-Moons and 8-Gaussians\n",
    "\n",
    "We evaluate use the simple synthetic dataset of:\n",
    "https://github.com/atong01/conditional-flow-matching/blob/main/examples/2D_tutorials/tutorial_training_8_gaussians_to_moons.ipynb. The alignment task for this dataset concerns aligning two-moons with 8-spatially localized 2D-Gaussian densities."
   ]
  },
  {
   "cell_type": "code",
   "execution_count": null,
   "id": "5ee5cb37",
   "metadata": {},
   "outputs": [],
   "source": [
    "import math \n",
    "\n",
    "def eight_normal_sample(n, dim, scale=1, var=1):\n",
    "    m = torch.distributions.multivariate_normal.MultivariateNormal(\n",
    "        torch.zeros(dim), math.sqrt(var) * torch.eye(dim)\n",
    "    )\n",
    "    centers = [\n",
    "        (1, 0),\n",
    "        (-1, 0),\n",
    "        (0, 1),\n",
    "        (0, -1),\n",
    "        (1.0 / np.sqrt(2), 1.0 / np.sqrt(2)),\n",
    "        (1.0 / np.sqrt(2), -1.0 / np.sqrt(2)),\n",
    "        (-1.0 / np.sqrt(2), 1.0 / np.sqrt(2)),\n",
    "        (-1.0 / np.sqrt(2), -1.0 / np.sqrt(2)),\n",
    "    ]\n",
    "    centers = torch.tensor(centers) * scale\n",
    "    noise = m.sample((n,))\n",
    "    multi = torch.multinomial(torch.ones(8), n, replacement=True)\n",
    "    data = []\n",
    "    for i in range(n):\n",
    "        data.append(centers[multi[i]] + noise[i])\n",
    "    data = torch.stack(data)\n",
    "    return data\n",
    "\n",
    "\n",
    "def sample_moons(n):\n",
    "    x0, _ = generate_moons(n, noise=0.2)\n",
    "    return x0 * 3 - 1\n",
    "\n",
    "def sample_8gaussians(n):\n",
    "    return eight_normal_sample(n, 2, scale=5, var=0.1).float()"
   ]
  },
  {
   "cell_type": "code",
   "execution_count": null,
   "id": "674e98f7",
   "metadata": {
    "scrolled": true
   },
   "outputs": [],
   "source": [
    "from ott.geometry import pointcloud, geometry\n",
    "\n",
    "batch_size1 = 1000\n",
    "batch_size2 = 1000\n",
    "\n",
    "g1 = np.ones((batch_size1)) / batch_size1\n",
    "g2 = np.ones((batch_size2)) / batch_size2\n",
    "\n",
    "x0 = sample_8gaussians(batch_size1)\n",
    "x1 = sample_moons(batch_size2)\n",
    "\n",
    "plt.scatter(x0[:,0], x0[:,1])\n",
    "plt.scatter(x1[:,0], x1[:,1])\n",
    "plt.show()\n",
    "\n",
    "C = torch.from_numpy(distance.cdist(x0, x1)).to(device)\n",
    "# We recommended normalizing input distance matrices by the max-value for numerical stability and may make this a default.\n",
    "C = C / C.max()"
   ]
  },
  {
   "cell_type": "markdown",
   "id": "2366b68d-a864-43ca-b873-6b10d40b082d",
   "metadata": {},
   "source": [
    "To run the method, simply call <tt>` FRLC.FRLC_opt `</tt> on the distance matrices used (e.g. $\\mathbf{C}$ for the Wasserstein problem, $\\mathbf{A}, \\mathbf{B}$ for GW or in addition to $\\mathbf{C}$ for FGW). You can toggle the type of optimization with the flag <tt>`Wasserstein=True`</tt> or <tt>`Wasserstein=False`</tt> and <tt>`FGW=True`</tt>. Additional flags <tt>`semiRelaxedLeft=True`</tt>, <tt>`semiRelaxedRight=True`</tt>, or <tt>`semiRelaxedRight=True`</tt> can be set to pick between standard relaxed OT problems. If all flags are False (default), then the OT run is balanced.\n",
    "\n",
    "By default, we assume that the return is in the form $(\\mathbf{Q}, \\mathbf{R}, \\mathbf{T})$ where one has access to the latent coupling $\\mathbf{T}$ and the sub-couplings $\\mathbf{Q}$ and $\\mathbf{R}$ which map from the observed points to the latent points. Setting <tt>` returnFull = True `</tt> will return the full low-rank alignment matrix $\\mathbf{P}$ instead."
   ]
  },
  {
   "cell_type": "code",
   "execution_count": null,
   "id": "8c62e737-1e89-4b3b-8950-a03c7099e6a8",
   "metadata": {},
   "outputs": [],
   "source": [
    "Q,R,T, errs = FRLC.FRLC_opt(C, device=device, r=30, r2=30, max_iter=100)\n",
    "\n",
    "print(f'OT cost of FRLC: {errs[-1].item()}')\n",
    "\n",
    "Q,R,T = Q.cpu(),R.cpu(),T.cpu()\n",
    "_x0, _x1 = x0.double(), x1.double()\n",
    "\n",
    "Q_barycenters, R_barycenters = util.LC_proj(_x0, _x1, Q, R)"
   ]
  },
  {
   "cell_type": "code",
   "execution_count": null,
   "id": "2e509ef4-f031-4f53-a3a1-a78a33160814",
   "metadata": {
    "scrolled": true
   },
   "outputs": [],
   "source": [
    "plotting.plot_pts(_x0, _x1, Q_barycenters, R_barycenters, T, scale=50, file_handle=\"twomoons_LC_proj.svg\") # , file_handle=\"twomoons_LC_proj.svg\""
   ]
  },
  {
   "cell_type": "markdown",
   "id": "526984fe-f727-4835-a056-aa37a804062d",
   "metadata": {},
   "source": [
    "# Diagonalized output\n",
    "To be consistent with the factorization of other works, we can easily diagonalize the output of FRLC to be in the form $\\mathbf{P} = \\mathbf{Q} \\mathrm{diag}(1/ \\mathbf{g}) \\mathbf{R}^{T}$. In this case, we return $\\mathbf{T} = \\mathrm{diag}(\\mathbf{g})$ and appropriately scale the sub-coupling to reflect this diagonalization."
   ]
  },
  {
   "cell_type": "code",
   "execution_count": null,
   "id": "ba5737e1-1f13-4e68-a220-c94eba118915",
   "metadata": {},
   "outputs": [],
   "source": [
    "import util\n",
    "\n",
    "Q,R,T, errs = FRLC.FRLC_opt(C, device=device, r=30, r2=30, \\\n",
    "                               max_iter=100, diagonalize_return=True)\n",
    "\n",
    "print('OT cost of ours')\n",
    "print(errs[-1])\n",
    "\n",
    "Q_barycenters, R_barycenters = util.LC_proj(_x0, _x1, Q, R)\n",
    "plotting.plot_pts(_x0, _x1, Q_barycenters, R_barycenters, T, scale=50, file_handle=\"twomoons_LC_proj.svg\")\n"
   ]
  },
  {
   "cell_type": "markdown",
   "id": "5c8fed49-492d-424e-8a52-2303dec82d97",
   "metadata": {},
   "source": [
    "# Low-rank distance matrix version\n",
    "\n",
    "We also offer a variant of FRLC (<tt>` FRLC.FRLC_LR_opt `</tt>) which supposes the distance matrices $\\mathbf{C}, \\mathbf{A}, \\mathbf{B}$ are each factored as:\n",
    "\n",
    "$$\\mathbf{C} = \\mathbf{C}_{1} \\mathbf{C}_{2}^{T}$$\n",
    "$$\\mathbf{A} = \\mathbf{A}_{1} \\mathbf{A}_{2}^{T}$$\n",
    "$$\\mathbf{B} = \\mathbf{B}_{1} \\mathbf{B}_{2}^{T}$$\n",
    "\n",
    "If a user wants to compute these factorizations from their data-points, we offer the approximation algorithm of (Indyk et al 2019) to do so -- in their algorithm $\\epsilon$ is a parameter controlling the additive approximation error and the number of iterations scales as $\\mathrm{poly}(1/\\epsilon)$ so we recommend not setting it too low. We note that while <tt>` FRLC.FRLC_LR_opt `</tt> implements the full FGW and recovers Wasserstein or GW as an edge case of $\\alpha = 0$ or $\\alpha = 1$, it only performs balanced OT currently. This will be amended in future updates, and we otherwise recommend users try <tt>` FRLC.FRLC_opt `</tt> instead."
   ]
  },
  {
   "cell_type": "code",
   "execution_count": null,
   "id": "ea499d3b-e25a-4ed1-af0b-88a8d8f98d71",
   "metadata": {},
   "outputs": [],
   "source": [
    "C1, C2 = util.low_rank_distance_factorization(_x0, _x1, r=60, eps=0.02, device=device, dtype=torch.float64)\n",
    "A1, A2 = util.low_rank_distance_factorization(_x0, _x0, r=60, eps=0.02, device=device, dtype=torch.float64)\n",
    "B1, B2 = util.low_rank_distance_factorization(_x0, _x0, r=60, eps=0.02, device=device, dtype=torch.float64)\n",
    "\n",
    "# Normalize by max value\n",
    "c = (C1 @ C2).max()**1/2\n",
    "C1, C2 = C1/c, C2/c\n",
    "\n",
    "C_factors, A_factors, B_factors = (C1, C2), (A1, A2), (B1, B2)"
   ]
  },
  {
   "cell_type": "code",
   "execution_count": null,
   "id": "a029d871-ac4c-48b3-882d-2547bb2c96d5",
   "metadata": {},
   "outputs": [],
   "source": [
    "import importlib\n",
    "import objective_grad\n",
    "importlib.reload(FRLC)\n",
    "importlib.reload(objective_grad)\n",
    "\n",
    "Q, R, T, errs = FRLC.FRLC_LR_opt(C_factors, A_factors, B_factors, device=device, r=30, r2=30, \\\n",
    "                               max_iter=100)\n",
    "\n",
    "Q_barycenters, R_barycenters = util.LC_proj(_x0, _x1, Q, R)\n",
    "plotting.plot_pts(_x0, _x1, Q_barycenters, R_barycenters, T, scale=50, file_handle=\"twomoons_LC_proj.svg\")\n"
   ]
  }
 ],
 "metadata": {
  "kernelspec": {
   "display_name": "peterenv2 [~/.conda/envs/peterenv2/]",
   "language": "python",
   "name": "conda_peterenv2"
  },
  "language_info": {
   "codemirror_mode": {
    "name": "ipython",
    "version": 3
   },
   "file_extension": ".py",
   "mimetype": "text/x-python",
   "name": "python",
   "nbconvert_exporter": "python",
   "pygments_lexer": "ipython3",
   "version": "3.12.3"
  }
 },
 "nbformat": 4,
 "nbformat_minor": 5
}
